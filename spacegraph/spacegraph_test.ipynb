{
 "cells": [
  {
   "cell_type": "code",
   "execution_count": 1,
   "metadata": {},
   "outputs": [
    {
     "name": "stdout",
     "output_type": "stream",
     "text": [
      "IPython will make a temporary file named: /tmp/ipython_edit_8T1Dr_/ipython_edit_J11tBg.py\n"
     ]
    }
   ],
   "source": [
    "%edit\n",
    "%load_ext autoreload\n",
    "%autoreload 2"
   ]
  },
  {
   "cell_type": "code",
   "execution_count": 29,
   "metadata": {},
   "outputs": [],
   "source": [
    "import torch\n",
    "import cPickle as pickle\n",
    "\n",
    "from spacegraph_codebase.data import PointSet, NeighborGraph,Point\n",
    "from spacegraph_codebase.Place2Vec.data_utils import load_pointset\n",
    "from spacegraph_codebase.encoder import PointFeatureEncoder"
   ]
  },
  {
   "cell_type": "code",
   "execution_count": 19,
   "metadata": {},
   "outputs": [],
   "source": [
    "data_dir=\"/home/gengchen/Position_Encoding/data_collection/Place2Vec/\"\n",
    "pointset, feature_embedding = load_pointset(data_dir)"
   ]
  },
  {
   "cell_type": "code",
   "execution_count": 20,
   "metadata": {},
   "outputs": [],
   "source": [
    "a = pointset.pt_dict.keys()"
   ]
  },
  {
   "cell_type": "code",
   "execution_count": 21,
   "metadata": {},
   "outputs": [
    {
     "data": {
      "text/plain": [
       "'training'"
      ]
     },
     "execution_count": 21,
     "metadata": {},
     "output_type": "execute_result"
    }
   ],
   "source": [
    "pointset.pt_dict[100].data_mode"
   ]
  },
  {
   "cell_type": "code",
   "execution_count": 22,
   "metadata": {},
   "outputs": [
    {
     "data": {
      "text/plain": [
       "tensor([[-0.1122,  0.0888,  0.0532,  0.0768, -0.0772, -0.0673,  0.2264, -0.2220,\n",
       "          0.1184,  0.0777],\n",
       "        [-0.1065, -0.0233, -0.0956,  0.2053, -0.0637,  0.1426,  0.0428,  0.1663,\n",
       "          0.0108,  0.0316]], grad_fn=<EmbeddingBackward>)"
      ]
     },
     "execution_count": 22,
     "metadata": {},
     "output_type": "execute_result"
    }
   ],
   "source": [
    "pointset.feature_embed_lookup([1,2])"
   ]
  },
  {
   "cell_type": "code",
   "execution_count": 23,
   "metadata": {},
   "outputs": [],
   "source": [
    "enc = PointFeatureEncoder(pointset.feature_embed_lookup, feature_embedding, pointset)"
   ]
  },
  {
   "cell_type": "code",
   "execution_count": 24,
   "metadata": {},
   "outputs": [
    {
     "data": {
      "text/plain": [
       "tensor([[-0.2986,  0.1743,  0.0995,  0.1868],\n",
       "        [-0.0703, -0.0665, -0.0965, -0.3652],\n",
       "        [-0.0417,  0.0232, -0.0387, -0.0065],\n",
       "        [ 0.0930, -0.3327, -0.2819,  0.0540],\n",
       "        [-0.2425,  0.1677, -0.1597,  0.3671],\n",
       "        [ 0.2346, -0.2531,  0.0804,  0.3282],\n",
       "        [-0.2976, -0.3229,  0.2301,  0.5850],\n",
       "        [-0.1013, -0.0506,  0.0645,  0.3797],\n",
       "        [-0.1561,  0.2541,  0.1191, -0.1339],\n",
       "        [ 0.1823, -0.0893, -0.2801, -0.2863]], grad_fn=<TBackward>)"
      ]
     },
     "execution_count": 24,
     "metadata": {},
     "output_type": "execute_result"
    }
   ],
   "source": [
    "enc(list(range(1,5)))"
   ]
  },
  {
   "cell_type": "code",
   "execution_count": 37,
   "metadata": {},
   "outputs": [],
   "source": [
    "def make_data_samples(data_mode, pointset, data_dir, neighbor_tuple_path, neg_sample_num = 10):\n",
    "    \n",
    "    # print(\"Load PointSet....\")\n",
    "    # pointset = load_pointset(data_dir, point_data_path)\n",
    "\n",
    "    print(\"Load {} neighbor_tuple_list\".format(data_mode))\n",
    "    neighbor_tuple_list = pickle.load(open(data_dir + \"/\" + neighbor_tuple_path, \"rb\"))\n",
    "\n",
    "\n",
    "    print(\"Do negative sampling and get NeighborGraph\")\n",
    "    ng_list = pointset.get_data_samples(neighbor_tuple_list, neg_sample_num, data_mode)\n",
    "    \n",
    "    return ng_list\n",
    "#     print(\"Dump {} NeighborGraph()\".format(data_mode))\n",
    "#     pickle.dump([ng.serialize() for ng in ng_list], open(data_dir+\"/neighborgraphs_{}.pkl\".format(data_mode), \"w\"), protocol=pickle.HIGHEST_PROTOCOL)"
   ]
  },
  {
   "cell_type": "code",
   "execution_count": 38,
   "metadata": {},
   "outputs": [],
   "source": [
    "data_mode = \"test\"\n",
    "neighbor_tuple_path = \"/neighbortuple_{}.pkl\".format(data_mode)"
   ]
  },
  {
   "cell_type": "code",
   "execution_count": 40,
   "metadata": {},
   "outputs": [
    {
     "name": "stdout",
     "output_type": "stream",
     "text": [
      "Load test neighbor_tuple_list\n",
      "Do negative sampling and get NeighborGraph\n"
     ]
    }
   ],
   "source": [
    "ng_list = make_data_samples(data_mode, pointset, data_dir, neighbor_tuple_path)"
   ]
  },
  {
   "cell_type": "code",
   "execution_count": 42,
   "metadata": {},
   "outputs": [
    {
     "data": {
      "text/plain": [
       "(25444,\n",
       " (16792, 24483, 13831, 18000, 18703, 16000, 12237, 13462, 3939, 5013),\n",
       " 'test',\n",
       " [28078, 26189, 25736, 28072, 26121, 25843, 26645, 25573, 26878, 25487])"
      ]
     },
     "execution_count": 42,
     "metadata": {},
     "output_type": "execute_result"
    }
   ],
   "source": [
    "ng_list[100].serialize()"
   ]
  },
  {
   "cell_type": "code",
   "execution_count": null,
   "metadata": {},
   "outputs": [],
   "source": []
  }
 ],
 "metadata": {
  "kernelspec": {
   "display_name": "Python 2",
   "language": "python",
   "name": "python2"
  },
  "language_info": {
   "codemirror_mode": {
    "name": "ipython",
    "version": 2
   },
   "file_extension": ".py",
   "mimetype": "text/x-python",
   "name": "python",
   "nbconvert_exporter": "python",
   "pygments_lexer": "ipython2",
   "version": "2.7.12"
  }
 },
 "nbformat": 4,
 "nbformat_minor": 2
}
